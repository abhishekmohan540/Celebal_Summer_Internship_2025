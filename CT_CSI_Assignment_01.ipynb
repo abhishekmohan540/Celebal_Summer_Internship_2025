{
  "nbformat": 4,
  "nbformat_minor": 0,
  "metadata": {
    "colab": {
      "provenance": []
    },
    "kernelspec": {
      "name": "python3",
      "display_name": "Python 3"
    },
    "language_info": {
      "name": "python"
    }
  },
  "cells": [
    {
      "cell_type": "code",
      "execution_count": null,
      "metadata": {
        "id": "tx8iXysFo9km"
      },
      "outputs": [],
      "source": []
    },
    {
      "cell_type": "markdown",
      "source": [
        "## Assignment - 01"
      ],
      "metadata": {
        "id": "GuUntYzOpJP_"
      }
    },
    {
      "cell_type": "markdown",
      "source": [
        "### Lower Triangle"
      ],
      "metadata": {
        "id": "lBh2YftC4Adw"
      }
    },
    {
      "cell_type": "code",
      "source": [
        "n = int(input(\"Enter the dimension of the lower triangle :\"))\n",
        "for  j in range(1,n+1):\n",
        "  print('*'*j)"
      ],
      "metadata": {
        "colab": {
          "base_uri": "https://localhost:8080/"
        },
        "id": "jv8Evw7VpJ1B",
        "outputId": "c552238c-0453-4fdd-8186-d55be7ada899"
      },
      "execution_count": 25,
      "outputs": [
        {
          "output_type": "stream",
          "name": "stdout",
          "text": [
            "Enter the dimension of the lower triangle :10\n",
            "*\n",
            "**\n",
            "***\n",
            "****\n",
            "*****\n",
            "******\n",
            "*******\n",
            "********\n",
            "*********\n",
            "**********\n"
          ]
        }
      ]
    },
    {
      "cell_type": "code",
      "source": [],
      "metadata": {
        "id": "mlz5I6YeprDB"
      },
      "execution_count": 6,
      "outputs": []
    },
    {
      "cell_type": "markdown",
      "source": [
        "### Upper Triangle"
      ],
      "metadata": {
        "id": "LmBYntPz4J3Q"
      }
    },
    {
      "cell_type": "code",
      "source": [
        "n = int(input(\"Enter the dimension of the upper triangle :\"))\n",
        "for  j in range(n,0,-1):\n",
        "  print(\" \"*(n-j), end=\"\")\n",
        "  print('*'*j)"
      ],
      "metadata": {
        "colab": {
          "base_uri": "https://localhost:8080/"
        },
        "id": "AHReCY7YsfGW",
        "outputId": "6a084fb4-c4bf-44bb-9c08-22d419eb11d3"
      },
      "execution_count": 26,
      "outputs": [
        {
          "output_type": "stream",
          "name": "stdout",
          "text": [
            "Enter the dimension of the upper triangle :10\n",
            "**********\n",
            " *********\n",
            "  ********\n",
            "   *******\n",
            "    ******\n",
            "     *****\n",
            "      ****\n",
            "       ***\n",
            "        **\n",
            "         *\n"
          ]
        }
      ]
    },
    {
      "cell_type": "markdown",
      "source": [
        "### Pyramid"
      ],
      "metadata": {
        "id": "ZrwYJsUw4Ntq"
      }
    },
    {
      "cell_type": "code",
      "source": [
        "rows=int(input(\"Enter the dimension of the pyramid :\"))\n",
        "for i in range(1, rows + 1):\n",
        "    print(\" \" * (rows - i), end=\"\")\n",
        "    print(\"* \" * i)"
      ],
      "metadata": {
        "colab": {
          "base_uri": "https://localhost:8080/"
        },
        "id": "Kg_yk3JRsfZU",
        "outputId": "9622662a-436b-495c-d46e-7ea15c864a54"
      },
      "execution_count": 27,
      "outputs": [
        {
          "output_type": "stream",
          "name": "stdout",
          "text": [
            "Enter the dimension of the pyramid :10\n",
            "         * \n",
            "        * * \n",
            "       * * * \n",
            "      * * * * \n",
            "     * * * * * \n",
            "    * * * * * * \n",
            "   * * * * * * * \n",
            "  * * * * * * * * \n",
            " * * * * * * * * * \n",
            "* * * * * * * * * * \n"
          ]
        }
      ]
    },
    {
      "cell_type": "code",
      "source": [],
      "metadata": {
        "id": "jQ6Qug3HrmOb"
      },
      "execution_count": 21,
      "outputs": []
    },
    {
      "cell_type": "code",
      "source": [],
      "metadata": {
        "id": "UjWsiY6kvArq"
      },
      "execution_count": null,
      "outputs": []
    }
  ]
}