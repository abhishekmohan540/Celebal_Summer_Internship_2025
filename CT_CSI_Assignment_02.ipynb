{
  "nbformat": 4,
  "nbformat_minor": 0,
  "metadata": {
    "colab": {
      "provenance": []
    },
    "kernelspec": {
      "name": "python3",
      "display_name": "Python 3"
    },
    "language_info": {
      "name": "python"
    }
  },
  "cells": [
    {
      "cell_type": "markdown",
      "source": [
        "## Assignment - 02"
      ],
      "metadata": {
        "id": "6sw-UWtiVdJT"
      }
    },
    {
      "cell_type": "markdown",
      "source": [
        "Create a Python program that implements a singly linked list using Object-Oriented Programming (OOP) principles. Your implementation should include the following: A Node class to represent each node in the list. A LinkedList class to manage the nodes, with methods to: Add a node to the end of the list Print the list Delete the nth node (where n is a 1-based index) Include exception handling to manage edge cases such as: Deleting a node from an empty list Deleting a node with an index out of range Test your implementation with at least one sample list."
      ],
      "metadata": {
        "id": "U7R9MoXxVrhR"
      }
    },
    {
      "cell_type": "code",
      "source": [
        "class Node:\n",
        "    def __init__(self, data):\n",
        "        self.data = data\n",
        "        self.next = None\n",
        "\n",
        "\n",
        "class LinkedList:\n",
        "    def __init__(self):\n",
        "        self.head = None\n",
        "\n",
        "    def add_node(self, data):\n",
        "        new_node = Node(data)\n",
        "        if self.head is None:\n",
        "            self.head = new_node\n",
        "        else:\n",
        "            current = self.head\n",
        "            while current.next is not None:\n",
        "                current = current.next\n",
        "            current.next = new_node\n",
        "\n",
        "    def print_list(self):\n",
        "        current = self.head\n",
        "        if current is None:\n",
        "            print(\"List is empty.\")\n",
        "            return\n",
        "        while current is not None:\n",
        "            print(current.data, end=\" -> \")\n",
        "            current = current.next\n",
        "        print(\"None\")\n",
        "\n",
        "    def delete_nth_node(self, n):\n",
        "        try:\n",
        "            if n <= 0:\n",
        "                raise IndexError(\"Index should be a positive integer (1-based index).\")\n",
        "            if self.head is None:\n",
        "                raise Exception(\"Cannot delete from an empty list.\")\n",
        "\n",
        "            if n == 1:\n",
        "                deleted_data = self.head.data\n",
        "                self.head = self.head.next\n",
        "                print(f\"Deleted node with data: {deleted_data}\")\n",
        "                return\n",
        "\n",
        "            current = self.head\n",
        "            for _ in range(n - 2):\n",
        "                if current.next is None:\n",
        "                    raise IndexError(\"Index out of range.\")\n",
        "                current = current.next\n",
        "\n",
        "            if current.next is None:\n",
        "                raise IndexError(\"Index out of range.\")\n",
        "\n",
        "            deleted_data = current.next.data\n",
        "            current.next = current.next.next\n",
        "            print(f\"Deleted node with data: {deleted_data}\")\n",
        "\n",
        "        except Exception as e:\n",
        "            print(f\"Error: {e}\")\n",
        "\n",
        "\n",
        "\n"
      ],
      "metadata": {
        "id": "GlPFjPwjTvPJ"
      },
      "execution_count": 1,
      "outputs": []
    },
    {
      "cell_type": "code",
      "source": [
        "if __name__ == \"__main__\":\n",
        "    ll = LinkedList()\n",
        "    ll.add_node(10)\n",
        "    ll.add_node(20)\n",
        "    ll.add_node(30)\n",
        "    ll.add_node(40)\n",
        "\n",
        "    print(\"Initial List:\")\n",
        "    ll.print_list()\n",
        "\n",
        "    print(\"\\nDeleting 2nd node:\")\n",
        "    ll.delete_nth_node(2)\n",
        "    ll.print_list()\n",
        "\n",
        "    print(\"\\nTrying to delete 10th node (out of range):\")\n",
        "    ll.delete_nth_node(10)\n",
        "\n",
        "    print(\"\\nDeleting head node:\")\n",
        "    ll.delete_nth_node(1)\n",
        "    ll.print_list()\n",
        "\n",
        "    print(\"\\nDeleting remaining nodes:\")\n",
        "    ll.delete_nth_node(1)\n",
        "    ll.delete_nth_node(1)\n",
        "\n",
        "    print(\"\\nAttempting to delete from empty list:\")\n",
        "    ll.delete_nth_node(1)\n"
      ],
      "metadata": {
        "colab": {
          "base_uri": "https://localhost:8080/"
        },
        "id": "5I4bFAoOTy6-",
        "outputId": "27497e70-6f61-4a32-97bc-e6be51c15470"
      },
      "execution_count": 5,
      "outputs": [
        {
          "output_type": "stream",
          "name": "stdout",
          "text": [
            "Initial List:\n",
            "10 -> 20 -> 30 -> 40 -> None\n",
            "\n",
            "Deleting 2nd node:\n",
            "Deleted node with data: 20\n",
            "10 -> 30 -> 40 -> None\n",
            "\n",
            "Trying to delete 10th node (out of range):\n",
            "Error: Index out of range.\n",
            "\n",
            "Deleting head node:\n",
            "Deleted node with data: 10\n",
            "30 -> 40 -> None\n",
            "\n",
            "Deleting remaining nodes:\n",
            "Deleted node with data: 30\n",
            "Deleted node with data: 40\n",
            "\n",
            "Attempting to delete from empty list:\n",
            "Error: Cannot delete from an empty list.\n"
          ]
        }
      ]
    },
    {
      "cell_type": "markdown",
      "source": [],
      "metadata": {
        "id": "bCUIFI0sVbeD"
      }
    }
  ]
}